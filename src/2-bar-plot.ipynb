# %% [markdown]
# ### Exercise 2: Bar Plot with Colors

# %%
import matplotlib.pyplot as plt

# Data
categories = ['A', 'B', 'C', 'D']
values = [5, 7, 3, 9]
colors = ['red', 'blue', 'green', 'purple']  # Different colors for each bar

# Create bar plot
plt.bar(categories, values, color=colors)

# Customize the plot
plt.title('Bar Plot with Colors')  # Add title
plt.xlabel('Categories')  # X-axis label
plt.ylabel('Values')  # Y-axis label
plt.grid(axis='y', linestyle='--', alpha=0.7)  # Add grid lines

# Show the plot
plt.show()

# %%
# TASK: Create a bar plot with the following data: categories = ['A', 'B', 'C', 'D'] and values = [5, 7, 3, 9].
# Use different colors for each bar and add a title to the plot.


